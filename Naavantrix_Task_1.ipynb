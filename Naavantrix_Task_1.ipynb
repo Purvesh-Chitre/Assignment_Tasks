{
  "nbformat": 4,
  "nbformat_minor": 0,
  "metadata": {
    "colab": {
      "provenance": [],
      "authorship_tag": "ABX9TyML79j97LviE3h5Db66xt6c",
      "include_colab_link": true
    },
    "kernelspec": {
      "name": "python3",
      "display_name": "Python 3"
    },
    "language_info": {
      "name": "python"
    }
  },
  "cells": [
    {
      "cell_type": "markdown",
      "metadata": {
        "id": "view-in-github",
        "colab_type": "text"
      },
      "source": [
        "<a href=\"https://colab.research.google.com/github/Purvesh-Chitre/Assignment_Tasks/blob/Assignment_1/Naavantrix_Task_1.ipynb\" target=\"_parent\"><img src=\"https://colab.research.google.com/assets/colab-badge.svg\" alt=\"Open In Colab\"/></a>"
      ]
    },
    {
      "cell_type": "markdown",
      "source": [
        "# **Task 1 - CRUD Operation on Sales Dataset**\n",
        "Perform **CRUD** operations on a sales dataset stored in a CSV file. You can choose any Python library or tool for database operations or perform them directly on the CSV file. Implement the following operations:<br>\n",
        "**Create:** Insert new records into the dataset.<br>\n",
        "**Read:** Retrieve and display specific records from the dataset.<br>\n",
        "**Update:** Modify existing records in the dataset.<br>\n",
        "**Delete:** Remove specific records from the dataset.<br>\n",
        "Provide a Python script demonstrating each **CRUD** operation with relevant comments and explanations.<br>"
      ],
      "metadata": {
        "id": "zYhLTULmh6Pm"
      }
    },
    {
      "cell_type": "code",
      "execution_count": 1,
      "metadata": {
        "colab": {
          "base_uri": "https://localhost:8080/"
        },
        "id": "3EK5IOBLe8KB",
        "outputId": "604066e3-2a0d-4b7c-b637-68de89fac01c"
      },
      "outputs": [
        {
          "output_type": "stream",
          "name": "stdout",
          "text": [
            "Requirement already satisfied: pandas in /usr/local/lib/python3.11/dist-packages (2.2.2)\n",
            "Collecting dash\n",
            "  Downloading dash-2.18.2-py3-none-any.whl.metadata (10 kB)\n",
            "Requirement already satisfied: plotly in /usr/local/lib/python3.11/dist-packages (5.24.1)\n",
            "Requirement already satisfied: scikit-learn in /usr/local/lib/python3.11/dist-packages (1.6.1)\n",
            "\u001b[31mERROR: Could not find a version that satisfies the requirement sqlite3 (from versions: none)\u001b[0m\u001b[31m\n",
            "\u001b[0m\u001b[31mERROR: No matching distribution found for sqlite3\u001b[0m\u001b[31m\n",
            "\u001b[0m"
          ]
        }
      ],
      "source": [
        "# !pip install pandas dash plotly scikit-learn sqlite3"
      ]
    },
    {
      "cell_type": "code",
      "source": [
        "# !apt-get install sqlite3\n",
        "# !sqlite3 --version"
      ],
      "metadata": {
        "colab": {
          "base_uri": "https://localhost:8080/"
        },
        "id": "DiLXvYIlfgzI",
        "outputId": "497fe706-77d0-4664-ae79-f8b29e2c5ef1"
      },
      "execution_count": 2,
      "outputs": [
        {
          "output_type": "stream",
          "name": "stdout",
          "text": [
            "Reading package lists... Done\n",
            "Building dependency tree... Done\n",
            "Reading state information... Done\n",
            "Suggested packages:\n",
            "  sqlite3-doc\n",
            "The following NEW packages will be installed:\n",
            "  sqlite3\n",
            "0 upgraded, 1 newly installed, 0 to remove and 22 not upgraded.\n",
            "Need to get 768 kB of archives.\n",
            "After this operation, 1,873 kB of additional disk space will be used.\n",
            "Get:1 http://archive.ubuntu.com/ubuntu jammy-updates/main amd64 sqlite3 amd64 3.37.2-2ubuntu0.3 [768 kB]\n",
            "Fetched 768 kB in 0s (3,582 kB/s)\n",
            "Selecting previously unselected package sqlite3.\n",
            "(Reading database ... 124935 files and directories currently installed.)\n",
            "Preparing to unpack .../sqlite3_3.37.2-2ubuntu0.3_amd64.deb ...\n",
            "Unpacking sqlite3 (3.37.2-2ubuntu0.3) ...\n",
            "Setting up sqlite3 (3.37.2-2ubuntu0.3) ...\n",
            "Processing triggers for man-db (2.10.2-1) ...\n",
            "3.37.2 2022-01-06 13:25:41 872ba256cbf61d9290b571c0e6d82a20c224ca3ad82971edc46b29818d5dalt1\n"
          ]
        }
      ]
    },
    {
      "cell_type": "markdown",
      "source": [
        "## Importing the Libraries"
      ],
      "metadata": {
        "id": "9g5Fpvoosq-n"
      }
    },
    {
      "cell_type": "code",
      "source": [
        "import sqlite3 # Importing SQLite3 to work with SQL dataset\n",
        "import pandas as pd # importing pandas"
      ],
      "metadata": {
        "id": "F2yYtv5WsuwQ"
      },
      "execution_count": 16,
      "outputs": []
    },
    {
      "cell_type": "markdown",
      "source": [
        "## Connect to SQLite database (or create it)"
      ],
      "metadata": {
        "id": "RUXqNuaTg37q"
      }
    },
    {
      "cell_type": "code",
      "source": [
        "# Connect to SQLite database (or create it)\n",
        "def connect_db():\n",
        "    \"\"\"Establish a connection to the SQLite database and return the connection object.\"\"\"\n",
        "    # using try and except functions to handle exceptions\n",
        "    try:\n",
        "        conn = sqlite3.connect(\"sales.db\")\n",
        "        return conn\n",
        "    except sqlite3.Error as e:\n",
        "        print(\"Error connecting to database:\", e)\n",
        "        return None"
      ],
      "metadata": {
        "id": "IdopaXYZf3lu"
      },
      "execution_count": 26,
      "outputs": []
    },
    {
      "cell_type": "markdown",
      "source": [
        "## Create Sample Table"
      ],
      "metadata": {
        "id": "zBxi-t3zhPiT"
      }
    },
    {
      "cell_type": "markdown",
      "source": [
        "Create (Insert Data) → The script inserts sample records into an SQLite database."
      ],
      "metadata": {
        "id": "uhckgYg4tsBC"
      }
    },
    {
      "cell_type": "code",
      "source": [
        "# Create table\n",
        "def create_table():\n",
        "    \"\"\"Create the sales table if it does not exist.\"\"\"\n",
        "    conn = connect_db()\n",
        "    if conn:\n",
        "        cursor = conn.cursor()\n",
        "        cursor.execute('''CREATE TABLE IF NOT EXISTS sales (\n",
        "                            id INTEGER PRIMARY KEY,\n",
        "                            product TEXT,\n",
        "                            quantity INTEGER,\n",
        "                            price REAL,\n",
        "                            sale_date TEXT\n",
        "                        )''')\n",
        "        conn.commit()\n",
        "        conn.close() #to properly close the connection to the SQLite database"
      ],
      "metadata": {
        "id": "nDtDocUfhKCv"
      },
      "execution_count": 27,
      "outputs": []
    },
    {
      "cell_type": "markdown",
      "source": [
        "## Insert Sample Table records"
      ],
      "metadata": {
        "id": "0mnWjeWAhY5j"
      }
    },
    {
      "cell_type": "code",
      "source": [
        "# Insert sample records\n",
        "def insert_record():\n",
        "    \"\"\"Insert a new sales record based on user input.\"\"\"\n",
        "    conn = connect_db()\n",
        "    if conn:\n",
        "        cursor = conn.cursor()\n",
        "        # using try and except functions to handle exceptions\n",
        "        try:\n",
        "            product = input(\"Enter product name: \")\n",
        "            quantity = int(input(\"Enter quantity: \"))\n",
        "            price = float(input(\"Enter price: \"))\n",
        "            sale_date = input(\"Enter sale date (YYYY-MM-DD): \")\n",
        "            cursor.execute(\"INSERT INTO sales (product, quantity, price, sale_date) VALUES (?, ?, ?, ?)\",\n",
        "                           (product, quantity, price, sale_date))\n",
        "            conn.commit()\n",
        "            print(\"Record inserted successfully!\")\n",
        "        except Exception as e:\n",
        "            print(\"Error inserting record:\", e)\n",
        "        finally:\n",
        "            conn.close() # to properly close the connection to the SQLite database"
      ],
      "metadata": {
        "id": "eFS6XCYLhdmB"
      },
      "execution_count": 28,
      "outputs": []
    },
    {
      "cell_type": "markdown",
      "source": [
        "## Read Records"
      ],
      "metadata": {
        "id": "b7eu9yHfhjne"
      }
    },
    {
      "cell_type": "markdown",
      "source": [
        "Read (Retrieve Data) → It retrieves and displays records using Pandas."
      ],
      "metadata": {
        "id": "t75yFSoGtx3w"
      }
    },
    {
      "cell_type": "code",
      "source": [
        "# Read records\n",
        "def read_records():\n",
        "    \"\"\"Retrieve and display all sales records.\"\"\"\n",
        "    conn = connect_db()\n",
        "    if conn:\n",
        "        df = pd.read_sql_query(\"SELECT * FROM sales\", conn)\n",
        "        print(\"\\nSales Data:\")\n",
        "        print(df)\n",
        "        conn.close() # to properly close the connection to the SQLite database"
      ],
      "metadata": {
        "id": "gMxyuuVCh2A5"
      },
      "execution_count": 29,
      "outputs": []
    },
    {
      "cell_type": "markdown",
      "source": [
        "## Update Records"
      ],
      "metadata": {
        "id": "Kt5iHzL8jI3I"
      }
    },
    {
      "cell_type": "markdown",
      "source": [
        "Update (Modify Data) → It updates the price of a product."
      ],
      "metadata": {
        "id": "_qizXL8Kua1Z"
      }
    },
    {
      "cell_type": "code",
      "source": [
        "# Update record\n",
        "def update_record():\n",
        "    \"\"\"Update an existing record's price based on user input.\"\"\"\n",
        "    conn = connect_db()\n",
        "    if conn:\n",
        "        cursor = conn.cursor()\n",
        "        # using try and except functions to handle exceptions\n",
        "        try:\n",
        "            product = input(\"Enter product name to update: \")\n",
        "            new_price = float(input(\"Enter new price: \"))\n",
        "            cursor.execute(\"UPDATE sales SET price = ? WHERE product = ?\", (new_price, product))\n",
        "            conn.commit()\n",
        "            print(\"Record updated successfully!\")\n",
        "        except Exception as e:\n",
        "            print(\"Error updating record:\", e)\n",
        "        finally:\n",
        "            conn.close() # to properly close the connection to the SQLite database"
      ],
      "metadata": {
        "id": "z8zJGyJHjMft"
      },
      "execution_count": 30,
      "outputs": []
    },
    {
      "cell_type": "markdown",
      "source": [
        "## Delete records"
      ],
      "metadata": {
        "id": "qdMoHZZnjNvH"
      }
    },
    {
      "cell_type": "code",
      "source": [
        "# Delete a record\n",
        "def delete_record():\n",
        "    \"\"\"Delete a sales record based on user input.\"\"\"\n",
        "    conn = connect_db()\n",
        "    if conn:\n",
        "        cursor = conn.cursor()\n",
        "        # using try and except functions to handle exceptions\n",
        "        try:\n",
        "            product = input(\"Enter product name to delete: \")\n",
        "            cursor.execute(\"DELETE FROM sales WHERE product = ?\", (product,))\n",
        "            conn.commit()\n",
        "            print(\"Record deleted successfully!\")\n",
        "        except Exception as e:\n",
        "            print(\"Error deleting record:\", e)\n",
        "        finally:\n",
        "            conn.close() # to properly close the connection to the SQLite database"
      ],
      "metadata": {
        "id": "bL5lJ_MnjY2V"
      },
      "execution_count": 31,
      "outputs": []
    },
    {
      "cell_type": "markdown",
      "source": [
        "## Display Updated Table"
      ],
      "metadata": {
        "id": "HJ7f7ANljaTC"
      }
    },
    {
      "cell_type": "code",
      "source": [
        "# Display updated table\n",
        "def main():\n",
        "    create_table()\n",
        "    # Using While loop for input conditioning with if and elif\n",
        "    while True:\n",
        "        print(\"\\nChoose an operation:\")\n",
        "        print(\"1. Insert Record\")\n",
        "        print(\"2. Read Records\")\n",
        "        print(\"3. Update Record\")\n",
        "        print(\"4. Delete Record\")\n",
        "        print(\"5. Exit\")\n",
        "        choice = input(\"Enter your choice: \")\n",
        "\n",
        "        if choice == '1':\n",
        "            insert_record()\n",
        "        elif choice == '2':\n",
        "            read_records()\n",
        "        elif choice == '3':\n",
        "            update_record()\n",
        "        elif choice == '4':\n",
        "            delete_record()\n",
        "        elif choice == '5':\n",
        "            print(\"Exiting program. Goodbye!\")\n",
        "            break\n",
        "        else:\n",
        "            print(\"Invalid choice. Please select a valid option.\")\n",
        "\n",
        "if __name__ == \"__main__\":\n",
        "    main()"
      ],
      "metadata": {
        "colab": {
          "base_uri": "https://localhost:8080/"
        },
        "id": "Du2tX0s8jf8L",
        "outputId": "1074663e-38c5-4c2f-939a-11432bb018dc"
      },
      "execution_count": 32,
      "outputs": [
        {
          "output_type": "stream",
          "name": "stdout",
          "text": [
            "\n",
            "Choose an operation:\n",
            "1. Insert Record\n",
            "2. Read Records\n",
            "3. Update Record\n",
            "4. Delete Record\n",
            "5. Exit\n",
            "Enter your choice: insert record\n",
            "Invalid choice. Please select a valid option.\n",
            "\n",
            "Choose an operation:\n",
            "1. Insert Record\n",
            "2. Read Records\n",
            "3. Update Record\n",
            "4. Delete Record\n",
            "5. Exit\n",
            "Enter your choice: 1\n",
            "Enter product name: Keyboard\n",
            "Enter quantity: 5\n",
            "Enter price: 250\n",
            "Enter sale date (YYYY-MM-DD): 2025-02-22\n",
            "Record inserted successfully!\n",
            "\n",
            "Choose an operation:\n",
            "1. Insert Record\n",
            "2. Read Records\n",
            "3. Update Record\n",
            "4. Delete Record\n",
            "5. Exit\n",
            "Enter your choice: 2\n",
            "\n",
            "Sales Data:\n",
            "   id     product  quantity    price   sale_date\n",
            "0   1      Laptop         2  1200.50  2024-02-01\n",
            "1   2  Smartphone         5   749.99  2024-02-02\n",
            "2   4      Laptop         2  1200.50  2024-02-01\n",
            "3   5  Smartphone         5   749.99  2024-02-02\n",
            "4   6      Laptop         2  1200.50  2024-02-01\n",
            "5   7  Smartphone         5   749.99  2024-02-02\n",
            "6   8    Keyboard         5   250.00  2025-02-22\n",
            "\n",
            "Choose an operation:\n",
            "1. Insert Record\n",
            "2. Read Records\n",
            "3. Update Record\n",
            "4. Delete Record\n",
            "5. Exit\n",
            "Enter your choice: 3\n",
            "Enter product name to update: Smartphone\n",
            "Enter new price: 1199.00\n",
            "Record updated successfully!\n",
            "\n",
            "Choose an operation:\n",
            "1. Insert Record\n",
            "2. Read Records\n",
            "3. Update Record\n",
            "4. Delete Record\n",
            "5. Exit\n",
            "Enter your choice: 4\n",
            "Enter product name to delete: 7\n",
            "Record deleted successfully!\n",
            "\n",
            "Choose an operation:\n",
            "1. Insert Record\n",
            "2. Read Records\n",
            "3. Update Record\n",
            "4. Delete Record\n",
            "5. Exit\n",
            "Enter your choice: 2\n",
            "\n",
            "Sales Data:\n",
            "   id     product  quantity   price   sale_date\n",
            "0   1      Laptop         2  1200.5  2024-02-01\n",
            "1   2  Smartphone         5  1199.0  2024-02-02\n",
            "2   4      Laptop         2  1200.5  2024-02-01\n",
            "3   5  Smartphone         5  1199.0  2024-02-02\n",
            "4   6      Laptop         2  1200.5  2024-02-01\n",
            "5   7  Smartphone         5  1199.0  2024-02-02\n",
            "6   8    Keyboard         5   250.0  2025-02-22\n",
            "\n",
            "Choose an operation:\n",
            "1. Insert Record\n",
            "2. Read Records\n",
            "3. Update Record\n",
            "4. Delete Record\n",
            "5. Exit\n",
            "Enter your choice: 4\n",
            "Enter product name to delete: Smartphone\n",
            "Record deleted successfully!\n",
            "\n",
            "Choose an operation:\n",
            "1. Insert Record\n",
            "2. Read Records\n",
            "3. Update Record\n",
            "4. Delete Record\n",
            "5. Exit\n",
            "Enter your choice: 2\n",
            "\n",
            "Sales Data:\n",
            "   id   product  quantity   price   sale_date\n",
            "0   1    Laptop         2  1200.5  2024-02-01\n",
            "1   4    Laptop         2  1200.5  2024-02-01\n",
            "2   6    Laptop         2  1200.5  2024-02-01\n",
            "3   8  Keyboard         5   250.0  2025-02-22\n",
            "\n",
            "Choose an operation:\n",
            "1. Insert Record\n",
            "2. Read Records\n",
            "3. Update Record\n",
            "4. Delete Record\n",
            "5. Exit\n",
            "Enter your choice: 5\n",
            "Exiting program. Goodbye!\n"
          ]
        }
      ]
    },
    {
      "cell_type": "markdown",
      "source": [
        "## Closing connection"
      ],
      "metadata": {
        "id": "Narpq94vjhpH"
      }
    },
    {
      "cell_type": "markdown",
      "source": [
        "The purpose of conn.close() is to properly close the connection to the SQLite database after completing all database operations. <br>\n",
        "Why is this important?<br>\n",
        "\t1.\tReleases Resources – Closing the connection ensures that system resources (like memory and file handles) are freed.<br>\n",
        "\t2.\tPrevents Data Corruption – If a program crashes or terminates unexpectedly without closing the connection, it might leave the database in an inconsistent state.<br>\n",
        "\t3.\tEnsures Changes are Saved – Although SQLite automatically commits some changes, explicitly closing the connection ensures all transactions are properly written to the database.<br>"
      ],
      "metadata": {
        "id": "Sjfmkzdejotv"
      }
    }
  ]
}