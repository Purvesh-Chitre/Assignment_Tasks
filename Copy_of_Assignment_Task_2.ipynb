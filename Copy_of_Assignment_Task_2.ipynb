{
  "nbformat": 4,
  "nbformat_minor": 0,
  "metadata": {
    "colab": {
      "provenance": [],
      "authorship_tag": "ABX9TyN4ou12CURafLXtlyJXVnv8",
      "include_colab_link": true
    },
    "kernelspec": {
      "name": "python3",
      "display_name": "Python 3"
    },
    "language_info": {
      "name": "python"
    }
  },
  "cells": [
    {
      "cell_type": "markdown",
      "metadata": {
        "id": "view-in-github",
        "colab_type": "text"
      },
      "source": [
        "<a href=\"https://colab.research.google.com/github/Purvesh-Chitre/Assignment_Tasks/blob/Assignment_2/Copy_of_Assignment_Task_2.ipynb\" target=\"_parent\"><img src=\"https://colab.research.google.com/assets/colab-badge.svg\" alt=\"Open In Colab\"/></a>"
      ]
    },
    {
      "cell_type": "markdown",
      "source": [
        "# Descriptive and Predictive Analysis with Interactive Dashboard\n",
        "Take any sales dataset of your choice and perform both descriptive and predictive analysis. Create an interactive dashboard using Python visualization libraries such as Plotly or Dash. Ensure that the graphs are interactive and can cross-filter each other. Include at least three different types of visualizations."
      ],
      "metadata": {
        "id": "TuqfZjx2JiCQ"
      }
    },
    {
      "cell_type": "markdown",
      "source": [
        "## Plan for the Assignment<br>\n",
        "\n",
        "Descriptive Analysis: Summary statistics, trends, and distribution of sales.<br>\n",
        "Predictive Analysis: Use Linear Regression to forecast sales.<br>\n",
        "Interactive Dashboard: Use Plotly<br>\n"
      ],
      "metadata": {
        "id": "idqIC_SVJ9M0"
      }
    },
    {
      "cell_type": "code",
      "source": [
        "# pip install pandas dash plotly scikit-learn"
      ],
      "metadata": {
        "collapsed": true,
        "id": "AkmGHdOAOgWN"
      },
      "execution_count": null,
      "outputs": []
    },
    {
      "cell_type": "code",
      "source": [
        "# !pip install dash"
      ],
      "metadata": {
        "collapsed": true,
        "colab": {
          "base_uri": "https://localhost:8080/"
        },
        "id": "NuOhY9TIdhUj",
        "outputId": "fbce8416-c4c7-400d-c682-b04b2db66893"
      },
      "execution_count": 2,
      "outputs": [
        {
          "output_type": "stream",
          "name": "stdout",
          "text": [
            "Collecting dash\n",
            "  Downloading dash-2.18.2-py3-none-any.whl.metadata (10 kB)\n",
            "Collecting Flask<3.1,>=1.0.4 (from dash)\n",
            "  Downloading flask-3.0.3-py3-none-any.whl.metadata (3.2 kB)\n",
            "Collecting Werkzeug<3.1 (from dash)\n",
            "  Downloading werkzeug-3.0.6-py3-none-any.whl.metadata (3.7 kB)\n",
            "Requirement already satisfied: plotly>=5.0.0 in /usr/local/lib/python3.11/dist-packages (from dash) (5.24.1)\n",
            "Collecting dash-html-components==2.0.0 (from dash)\n",
            "  Downloading dash_html_components-2.0.0-py3-none-any.whl.metadata (3.8 kB)\n",
            "Collecting dash-core-components==2.0.0 (from dash)\n",
            "  Downloading dash_core_components-2.0.0-py3-none-any.whl.metadata (2.9 kB)\n",
            "Collecting dash-table==5.0.0 (from dash)\n",
            "  Downloading dash_table-5.0.0-py3-none-any.whl.metadata (2.4 kB)\n",
            "Requirement already satisfied: importlib-metadata in /usr/local/lib/python3.11/dist-packages (from dash) (8.6.1)\n",
            "Requirement already satisfied: typing-extensions>=4.1.1 in /usr/local/lib/python3.11/dist-packages (from dash) (4.12.2)\n",
            "Requirement already satisfied: requests in /usr/local/lib/python3.11/dist-packages (from dash) (2.32.3)\n",
            "Collecting retrying (from dash)\n",
            "  Downloading retrying-1.3.4-py3-none-any.whl.metadata (6.9 kB)\n",
            "Requirement already satisfied: nest-asyncio in /usr/local/lib/python3.11/dist-packages (from dash) (1.6.0)\n",
            "Requirement already satisfied: setuptools in /usr/local/lib/python3.11/dist-packages (from dash) (75.1.0)\n",
            "Requirement already satisfied: Jinja2>=3.1.2 in /usr/local/lib/python3.11/dist-packages (from Flask<3.1,>=1.0.4->dash) (3.1.5)\n",
            "Requirement already satisfied: itsdangerous>=2.1.2 in /usr/local/lib/python3.11/dist-packages (from Flask<3.1,>=1.0.4->dash) (2.2.0)\n",
            "Requirement already satisfied: click>=8.1.3 in /usr/local/lib/python3.11/dist-packages (from Flask<3.1,>=1.0.4->dash) (8.1.8)\n",
            "Requirement already satisfied: blinker>=1.6.2 in /usr/local/lib/python3.11/dist-packages (from Flask<3.1,>=1.0.4->dash) (1.9.0)\n",
            "Requirement already satisfied: tenacity>=6.2.0 in /usr/local/lib/python3.11/dist-packages (from plotly>=5.0.0->dash) (9.0.0)\n",
            "Requirement already satisfied: packaging in /usr/local/lib/python3.11/dist-packages (from plotly>=5.0.0->dash) (24.2)\n",
            "Requirement already satisfied: MarkupSafe>=2.1.1 in /usr/local/lib/python3.11/dist-packages (from Werkzeug<3.1->dash) (3.0.2)\n",
            "Requirement already satisfied: zipp>=3.20 in /usr/local/lib/python3.11/dist-packages (from importlib-metadata->dash) (3.21.0)\n",
            "Requirement already satisfied: charset-normalizer<4,>=2 in /usr/local/lib/python3.11/dist-packages (from requests->dash) (3.4.1)\n",
            "Requirement already satisfied: idna<4,>=2.5 in /usr/local/lib/python3.11/dist-packages (from requests->dash) (3.10)\n",
            "Requirement already satisfied: urllib3<3,>=1.21.1 in /usr/local/lib/python3.11/dist-packages (from requests->dash) (2.3.0)\n",
            "Requirement already satisfied: certifi>=2017.4.17 in /usr/local/lib/python3.11/dist-packages (from requests->dash) (2025.1.31)\n",
            "Requirement already satisfied: six>=1.7.0 in /usr/local/lib/python3.11/dist-packages (from retrying->dash) (1.17.0)\n",
            "Downloading dash-2.18.2-py3-none-any.whl (7.8 MB)\n",
            "\u001b[2K   \u001b[90m━━━━━━━━━━━━━━━━━━━━━━━━━━━━━━━━━━━━━━━━\u001b[0m \u001b[32m7.8/7.8 MB\u001b[0m \u001b[31m55.8 MB/s\u001b[0m eta \u001b[36m0:00:00\u001b[0m\n",
            "\u001b[?25hDownloading dash_core_components-2.0.0-py3-none-any.whl (3.8 kB)\n",
            "Downloading dash_html_components-2.0.0-py3-none-any.whl (4.1 kB)\n",
            "Downloading dash_table-5.0.0-py3-none-any.whl (3.9 kB)\n",
            "Downloading flask-3.0.3-py3-none-any.whl (101 kB)\n",
            "\u001b[2K   \u001b[90m━━━━━━━━━━━━━━━━━━━━━━━━━━━━━━━━━━━━━━━━\u001b[0m \u001b[32m101.7/101.7 kB\u001b[0m \u001b[31m8.1 MB/s\u001b[0m eta \u001b[36m0:00:00\u001b[0m\n",
            "\u001b[?25hDownloading werkzeug-3.0.6-py3-none-any.whl (227 kB)\n",
            "\u001b[2K   \u001b[90m━━━━━━━━━━━━━━━━━━━━━━━━━━━━━━━━━━━━━━━━\u001b[0m \u001b[32m228.0/228.0 kB\u001b[0m \u001b[31m15.7 MB/s\u001b[0m eta \u001b[36m0:00:00\u001b[0m\n",
            "\u001b[?25hDownloading retrying-1.3.4-py3-none-any.whl (11 kB)\n",
            "Installing collected packages: dash-table, dash-html-components, dash-core-components, Werkzeug, retrying, Flask, dash\n",
            "  Attempting uninstall: Werkzeug\n",
            "    Found existing installation: Werkzeug 3.1.3\n",
            "    Uninstalling Werkzeug-3.1.3:\n",
            "      Successfully uninstalled Werkzeug-3.1.3\n",
            "  Attempting uninstall: Flask\n",
            "    Found existing installation: Flask 3.1.0\n",
            "    Uninstalling Flask-3.1.0:\n",
            "      Successfully uninstalled Flask-3.1.0\n",
            "Successfully installed Flask-3.0.3 Werkzeug-3.0.6 dash-2.18.2 dash-core-components-2.0.0 dash-html-components-2.0.0 dash-table-5.0.0 retrying-1.3.4\n"
          ]
        }
      ]
    },
    {
      "cell_type": "code",
      "source": [
        "# !pip install jupyter-dash dash plotly pandas"
      ],
      "metadata": {
        "colab": {
          "base_uri": "https://localhost:8080/"
        },
        "collapsed": true,
        "id": "Z_8FZQh6mkMC",
        "outputId": "84b78ed2-0d24-4754-be32-64f0f89379bb"
      },
      "execution_count": 23,
      "outputs": [
        {
          "output_type": "stream",
          "name": "stdout",
          "text": [
            "Collecting jupyter-dash\n",
            "  Downloading jupyter_dash-0.4.2-py3-none-any.whl.metadata (3.6 kB)\n",
            "Requirement already satisfied: dash in /usr/local/lib/python3.11/dist-packages (2.18.2)\n",
            "Requirement already satisfied: plotly in /usr/local/lib/python3.11/dist-packages (5.24.1)\n",
            "Requirement already satisfied: pandas in /usr/local/lib/python3.11/dist-packages (2.2.2)\n",
            "Requirement already satisfied: requests in /usr/local/lib/python3.11/dist-packages (from jupyter-dash) (2.32.3)\n",
            "Requirement already satisfied: flask in /usr/local/lib/python3.11/dist-packages (from jupyter-dash) (3.0.3)\n",
            "Requirement already satisfied: retrying in /usr/local/lib/python3.11/dist-packages (from jupyter-dash) (1.3.4)\n",
            "Requirement already satisfied: ipython in /usr/local/lib/python3.11/dist-packages (from jupyter-dash) (7.34.0)\n",
            "Requirement already satisfied: ipykernel in /usr/local/lib/python3.11/dist-packages (from jupyter-dash) (6.17.1)\n",
            "Collecting ansi2html (from jupyter-dash)\n",
            "  Downloading ansi2html-1.9.2-py3-none-any.whl.metadata (3.7 kB)\n",
            "Requirement already satisfied: nest-asyncio in /usr/local/lib/python3.11/dist-packages (from jupyter-dash) (1.6.0)\n",
            "Requirement already satisfied: Werkzeug<3.1 in /usr/local/lib/python3.11/dist-packages (from dash) (3.0.6)\n",
            "Requirement already satisfied: dash-html-components==2.0.0 in /usr/local/lib/python3.11/dist-packages (from dash) (2.0.0)\n",
            "Requirement already satisfied: dash-core-components==2.0.0 in /usr/local/lib/python3.11/dist-packages (from dash) (2.0.0)\n",
            "Requirement already satisfied: dash-table==5.0.0 in /usr/local/lib/python3.11/dist-packages (from dash) (5.0.0)\n",
            "Requirement already satisfied: importlib-metadata in /usr/local/lib/python3.11/dist-packages (from dash) (8.6.1)\n",
            "Requirement already satisfied: typing-extensions>=4.1.1 in /usr/local/lib/python3.11/dist-packages (from dash) (4.12.2)\n",
            "Requirement already satisfied: setuptools in /usr/local/lib/python3.11/dist-packages (from dash) (75.1.0)\n",
            "Requirement already satisfied: tenacity>=6.2.0 in /usr/local/lib/python3.11/dist-packages (from plotly) (9.0.0)\n",
            "Requirement already satisfied: packaging in /usr/local/lib/python3.11/dist-packages (from plotly) (24.2)\n",
            "Requirement already satisfied: numpy>=1.23.2 in /usr/local/lib/python3.11/dist-packages (from pandas) (1.26.4)\n",
            "Requirement already satisfied: python-dateutil>=2.8.2 in /usr/local/lib/python3.11/dist-packages (from pandas) (2.8.2)\n",
            "Requirement already satisfied: pytz>=2020.1 in /usr/local/lib/python3.11/dist-packages (from pandas) (2025.1)\n",
            "Requirement already satisfied: tzdata>=2022.7 in /usr/local/lib/python3.11/dist-packages (from pandas) (2025.1)\n",
            "Requirement already satisfied: Jinja2>=3.1.2 in /usr/local/lib/python3.11/dist-packages (from flask->jupyter-dash) (3.1.5)\n",
            "Requirement already satisfied: itsdangerous>=2.1.2 in /usr/local/lib/python3.11/dist-packages (from flask->jupyter-dash) (2.2.0)\n",
            "Requirement already satisfied: click>=8.1.3 in /usr/local/lib/python3.11/dist-packages (from flask->jupyter-dash) (8.1.8)\n",
            "Requirement already satisfied: blinker>=1.6.2 in /usr/local/lib/python3.11/dist-packages (from flask->jupyter-dash) (1.9.0)\n",
            "Requirement already satisfied: six>=1.5 in /usr/local/lib/python3.11/dist-packages (from python-dateutil>=2.8.2->pandas) (1.17.0)\n",
            "Requirement already satisfied: MarkupSafe>=2.1.1 in /usr/local/lib/python3.11/dist-packages (from Werkzeug<3.1->dash) (3.0.2)\n",
            "Requirement already satisfied: zipp>=3.20 in /usr/local/lib/python3.11/dist-packages (from importlib-metadata->dash) (3.21.0)\n",
            "Requirement already satisfied: debugpy>=1.0 in /usr/local/lib/python3.11/dist-packages (from ipykernel->jupyter-dash) (1.8.0)\n",
            "Requirement already satisfied: jupyter-client>=6.1.12 in /usr/local/lib/python3.11/dist-packages (from ipykernel->jupyter-dash) (6.1.12)\n",
            "Requirement already satisfied: matplotlib-inline>=0.1 in /usr/local/lib/python3.11/dist-packages (from ipykernel->jupyter-dash) (0.1.7)\n",
            "Requirement already satisfied: psutil in /usr/local/lib/python3.11/dist-packages (from ipykernel->jupyter-dash) (5.9.5)\n",
            "Requirement already satisfied: pyzmq>=17 in /usr/local/lib/python3.11/dist-packages (from ipykernel->jupyter-dash) (24.0.1)\n",
            "Requirement already satisfied: tornado>=6.1 in /usr/local/lib/python3.11/dist-packages (from ipykernel->jupyter-dash) (6.4.2)\n",
            "Requirement already satisfied: traitlets>=5.1.0 in /usr/local/lib/python3.11/dist-packages (from ipykernel->jupyter-dash) (5.7.1)\n",
            "Collecting jedi>=0.16 (from ipython->jupyter-dash)\n",
            "  Downloading jedi-0.19.2-py2.py3-none-any.whl.metadata (22 kB)\n",
            "Requirement already satisfied: decorator in /usr/local/lib/python3.11/dist-packages (from ipython->jupyter-dash) (4.4.2)\n",
            "Requirement already satisfied: pickleshare in /usr/local/lib/python3.11/dist-packages (from ipython->jupyter-dash) (0.7.5)\n",
            "Requirement already satisfied: prompt-toolkit!=3.0.0,!=3.0.1,<3.1.0,>=2.0.0 in /usr/local/lib/python3.11/dist-packages (from ipython->jupyter-dash) (3.0.50)\n",
            "Requirement already satisfied: pygments in /usr/local/lib/python3.11/dist-packages (from ipython->jupyter-dash) (2.18.0)\n",
            "Requirement already satisfied: backcall in /usr/local/lib/python3.11/dist-packages (from ipython->jupyter-dash) (0.2.0)\n",
            "Requirement already satisfied: pexpect>4.3 in /usr/local/lib/python3.11/dist-packages (from ipython->jupyter-dash) (4.9.0)\n",
            "Requirement already satisfied: charset-normalizer<4,>=2 in /usr/local/lib/python3.11/dist-packages (from requests->jupyter-dash) (3.4.1)\n",
            "Requirement already satisfied: idna<4,>=2.5 in /usr/local/lib/python3.11/dist-packages (from requests->jupyter-dash) (3.10)\n",
            "Requirement already satisfied: urllib3<3,>=1.21.1 in /usr/local/lib/python3.11/dist-packages (from requests->jupyter-dash) (2.3.0)\n",
            "Requirement already satisfied: certifi>=2017.4.17 in /usr/local/lib/python3.11/dist-packages (from requests->jupyter-dash) (2025.1.31)\n",
            "Requirement already satisfied: parso<0.9.0,>=0.8.4 in /usr/local/lib/python3.11/dist-packages (from jedi>=0.16->ipython->jupyter-dash) (0.8.4)\n",
            "Requirement already satisfied: jupyter-core>=4.6.0 in /usr/local/lib/python3.11/dist-packages (from jupyter-client>=6.1.12->ipykernel->jupyter-dash) (5.7.2)\n",
            "Requirement already satisfied: ptyprocess>=0.5 in /usr/local/lib/python3.11/dist-packages (from pexpect>4.3->ipython->jupyter-dash) (0.7.0)\n",
            "Requirement already satisfied: wcwidth in /usr/local/lib/python3.11/dist-packages (from prompt-toolkit!=3.0.0,!=3.0.1,<3.1.0,>=2.0.0->ipython->jupyter-dash) (0.2.13)\n",
            "Requirement already satisfied: platformdirs>=2.5 in /usr/local/lib/python3.11/dist-packages (from jupyter-core>=4.6.0->jupyter-client>=6.1.12->ipykernel->jupyter-dash) (4.3.6)\n",
            "Downloading jupyter_dash-0.4.2-py3-none-any.whl (23 kB)\n",
            "Downloading ansi2html-1.9.2-py3-none-any.whl (17 kB)\n",
            "Downloading jedi-0.19.2-py2.py3-none-any.whl (1.6 MB)\n",
            "\u001b[2K   \u001b[90m━━━━━━━━━━━━━━━━━━━━━━━━━━━━━━━━━━━━━━━━\u001b[0m \u001b[32m1.6/1.6 MB\u001b[0m \u001b[31m18.5 MB/s\u001b[0m eta \u001b[36m0:00:00\u001b[0m\n",
            "\u001b[?25hInstalling collected packages: jedi, ansi2html, jupyter-dash\n",
            "Successfully installed ansi2html-1.9.2 jedi-0.19.2 jupyter-dash-0.4.2\n"
          ]
        }
      ]
    },
    {
      "cell_type": "markdown",
      "source": [
        "## Importing the required Libraries"
      ],
      "metadata": {
        "id": "CjkzZ3okKTje"
      }
    },
    {
      "cell_type": "code",
      "source": [
        "# Import the pandas library for data manipulation and analysis\n",
        "import pandas as pd\n",
        "# Import the numpy library for numerical operations\n",
        "import numpy as np\n",
        "# Import the sqlite3 library for working with SQLite databases\n",
        "import sqlite3\n",
        "# Import the random library for generating random numbers\n",
        "import random\n",
        "# Import the datetime and timedelta classes from the datetime library for working with dates and times\n",
        "from datetime import datetime, timedelta\n",
        "# Import the pyplot module from matplotlib for creating static, interactive, and animated visualizations in Python\n",
        "import matplotlib.pyplot as plt\n",
        "# Import the seaborn library for building statistical graphics\n",
        "import seaborn as sns\n",
        "# Import the train_test_split function from sklearn.model_selection for splitting data into training and testing sets\n",
        "from sklearn.model_selection import train_test_split\n",
        "# Import the LinearRegression class from sklearn.linear_model for building linear regression models\n",
        "from sklearn.linear_model import LinearRegression\n",
        "# Import the Random FOrest Regressor\n",
        "from sklearn.ensemble import RandomForestRegressor\n",
        "# Import the mean_absolute_error and mean_squared_error functions from sklearn.metrics for evaluating model performance\n",
        "from sklearn.metrics import mean_absolute_error, mean_squared_error\n",
        "# Import the plotly.express library for creating interactive plots\n",
        "import plotly.express as px\n",
        "# # Import the dash library for building interactive web applications\n",
        "# import dash\n",
        "# # Import the dcc and html modules from dash for creating the layout of the web application\n",
        "# from dash import dcc, html\n",
        "# # Import the Input and Output classes from dash.dependencies for creating interactive components in the web application\n",
        "# from dash.dependencies import Input, Output"
      ],
      "metadata": {
        "id": "-jlivzgaKYk0"
      },
      "execution_count": 3,
      "outputs": []
    },
    {
      "cell_type": "markdown",
      "source": [
        "## Generate a Larger Dataset with 1000 Entries"
      ],
      "metadata": {
        "id": "S70kSgh2Lo8L"
      }
    },
    {
      "cell_type": "code",
      "source": [
        "# Step 1: Generate a Larger Dataset with 1000 Entries\n",
        "random.seed(42)\n",
        "products = [\"Laptop\", \"Smartphone\", \"Tablet\", \"Headphones\", \"Smartwatch\"]\n",
        "date_range = [datetime(2024, 1, 1) + timedelta(days=i) for i in range(100)]"
      ],
      "metadata": {
        "id": "lvCpeP1Vu7d7"
      },
      "execution_count": 4,
      "outputs": []
    },
    {
      "cell_type": "code",
      "source": [
        "sales_data = []\n",
        "for _ in range(1000):\n",
        "    sales_data.append([\n",
        "        random.choice(products),\n",
        "        random.randint(1, 10),  # Quantity sold\n",
        "        round(random.uniform(100, 2000), 2),  # Price\n",
        "        random.choice(date_range).strftime('%Y-%m-%d')  # Random date\n",
        "    ])"
      ],
      "metadata": {
        "id": "WFxrOxucvEc5"
      },
      "execution_count": 5,
      "outputs": []
    },
    {
      "cell_type": "markdown",
      "source": [
        "## Create DataFrame\n"
      ],
      "metadata": {
        "id": "7zK1EUZiO7hh"
      }
    },
    {
      "cell_type": "code",
      "source": [
        "# Create DataFrame\n",
        "sales_df = pd.DataFrame(sales_data, columns=[\"product\", \"quantity\", \"price\", \"sale_date\"])"
      ],
      "metadata": {
        "id": "0cbFPy9NvLvl"
      },
      "execution_count": 6,
      "outputs": []
    },
    {
      "cell_type": "markdown",
      "source": [
        "## Save to CSV"
      ],
      "metadata": {
        "id": "v2LlXFx9PYeF"
      }
    },
    {
      "cell_type": "code",
      "source": [
        "# Save to CSV\n",
        "sales_df.to_csv(\"sales_data_updated.csv\", index=False)"
      ],
      "metadata": {
        "id": "bi_xbYZWvUON"
      },
      "execution_count": 7,
      "outputs": []
    },
    {
      "cell_type": "markdown",
      "source": [
        "## Descriptive Statistics"
      ],
      "metadata": {
        "id": "RFnUmeR2Wpji"
      }
    },
    {
      "cell_type": "code",
      "source": [
        "# Step 2: Descriptive Analysis\n",
        "print(\"Basic Statistics:\\n\", sales_df.describe())\n",
        "print(\"\\nData Info:\\n\")\n",
        "sales_df.info()"
      ],
      "metadata": {
        "colab": {
          "base_uri": "https://localhost:8080/"
        },
        "id": "5CIqKiLBvfCW",
        "outputId": "2cebfea2-02ad-4164-80c7-2dbc4bf3dc5d"
      },
      "execution_count": 8,
      "outputs": [
        {
          "output_type": "stream",
          "name": "stdout",
          "text": [
            "Basic Statistics:\n",
            "           quantity        price\n",
            "count  1000.000000  1000.000000\n",
            "mean      5.601000  1049.030240\n",
            "std       2.943206   549.964232\n",
            "min       1.000000   101.280000\n",
            "25%       3.000000   591.840000\n",
            "50%       6.000000  1018.750000\n",
            "75%       8.000000  1532.462500\n",
            "max      10.000000  1999.230000\n",
            "\n",
            "Data Info:\n",
            "\n",
            "<class 'pandas.core.frame.DataFrame'>\n",
            "RangeIndex: 1000 entries, 0 to 999\n",
            "Data columns (total 4 columns):\n",
            " #   Column     Non-Null Count  Dtype  \n",
            "---  ------     --------------  -----  \n",
            " 0   product    1000 non-null   object \n",
            " 1   quantity   1000 non-null   int64  \n",
            " 2   price      1000 non-null   float64\n",
            " 3   sale_date  1000 non-null   object \n",
            "dtypes: float64(1), int64(1), object(2)\n",
            "memory usage: 31.4+ KB\n"
          ]
        }
      ]
    },
    {
      "cell_type": "markdown",
      "source": [
        "Overview of Sales Data <br>\n",
        "- The dataset contains 1,000 sales records of different products.<br>\n",
        "- Each sale includes product name, quantity sold, price per unit, and sale date.<br>\n",
        "\n",
        "Understanding Quantity Sold <br>\n",
        "- On average, about 5-6 units of a product are sold per transaction.<br>\n",
        "- Some transactions only have 1 unit, while others have up to 10 units.<br>\n",
        "- Most transactions fall between 3 to 8 units (25th to 75th percentile).<br>\n",
        "\n",
        "Understanding Price Per Unit <br>\n",
        "- The average price of a product is USD 1,049. <br>\n",
        "- The cheapest product in the dataset costs USD 101, while the most expensive costs USD 1,999. <br>\n",
        "- Most prices fall between USD 591 and USD 1,532, meaning we have a mix of budget and premium products. <br>\n",
        "\n",
        "Data Quality & Structure <br>\n",
        "No missing values, meaning the dataset is clean and complete. <br>\n",
        "- The dataset uses the correct data types: <br>\n",
        "**Numbers (quantity, price) for analysis** <br>\n",
        "**Dates for time-based sales trends** <br>"
      ],
      "metadata": {
        "id": "J8zVoR6qqGhi"
      }
    },
    {
      "cell_type": "markdown",
      "source": [
        "## Predictive Analysis"
      ],
      "metadata": {
        "id": "pkcPzOFraZ5i"
      }
    },
    {
      "cell_type": "code",
      "source": [
        "# Step 3: Predictive Analysis - Sales Forecasting\n",
        "sales_df['sale_date'] = pd.to_datetime(sales_df['sale_date'])\n",
        "sales_df['year_month'] = sales_df['sale_date'].dt.to_period('M')"
      ],
      "metadata": {
        "id": "RZSSQA45vlR0"
      },
      "execution_count": 9,
      "outputs": []
    },
    {
      "cell_type": "markdown",
      "source": [
        "Explanation: Why are we converting sale_date to year_month?<br>\n",
        "\n",
        "We are converting sale_date to datetime format and extracting year_month to group sales by month for trend analysis and forecasting.<br>"
      ],
      "metadata": {
        "id": "eS1fmdfZpas5"
      }
    },
    {
      "cell_type": "markdown",
      "source": [
        "### Aggregate Sales by Month"
      ],
      "metadata": {
        "id": "5HdJc26kak1r"
      }
    },
    {
      "cell_type": "code",
      "source": [
        "# Aggregate sales by month\n",
        "monthly_sales = sales_df.groupby('year_month')['quantity'].sum().reset_index()\n",
        "monthly_sales['year_month'] = monthly_sales['year_month'].astype(str)"
      ],
      "metadata": {
        "id": "Pd9ZqMQzvqBL"
      },
      "execution_count": 10,
      "outputs": []
    },
    {
      "cell_type": "markdown",
      "source": [
        "Why is this important?<br>\n",
        "- Sales forecasting relies on trends over time.<br>\n",
        "- Aggregating by month smooths the data, helping the model detect patterns.<br>"
      ],
      "metadata": {
        "id": "w0h2sS7UpnEN"
      }
    },
    {
      "cell_type": "markdown",
      "source": [
        "### Train Test Split"
      ],
      "metadata": {
        "id": "_39rAeZFaulx"
      }
    },
    {
      "cell_type": "code",
      "source": [
        "# Train a Linear Regression Model\n",
        "X = np.arange(len(monthly_sales)).reshape(-1, 1)\n",
        "y = monthly_sales['quantity']\n",
        "X_train, X_test, y_train, y_test = train_test_split(X, y, test_size=0.2, random_state=42)"
      ],
      "metadata": {
        "id": "IzjAWI1lvuvQ"
      },
      "execution_count": 11,
      "outputs": []
    },
    {
      "cell_type": "markdown",
      "source": [
        "### Random Forest Regressor"
      ],
      "metadata": {
        "id": "vUes8keCa6JX"
      }
    },
    {
      "cell_type": "code",
      "source": [
        "# Train Random Forest Regressor model\n",
        "rf_model = RandomForestRegressor(n_estimators=100, random_state=42)\n",
        "rf_model.fit(X_train, y_train)\n",
        "y_pred = rf_model.predict(X_test)"
      ],
      "metadata": {
        "id": "2LnDosF1vwdZ"
      },
      "execution_count": 12,
      "outputs": []
    },
    {
      "cell_type": "markdown",
      "source": [
        "### Evaluate Model Performance"
      ],
      "metadata": {
        "id": "Lp2kvPHjfeJX"
      }
    },
    {
      "cell_type": "code",
      "source": [
        "# Evaluate Model Performance\n",
        "mae = mean_absolute_error(y_test, y_pred)\n",
        "mse = mean_squared_error(y_test, y_pred)\n",
        "print(f\"Mean Absolute Error: {mae:.2f}\")\n",
        "print(f\"Mean Squared Error: {mse:.2f}\")"
      ],
      "metadata": {
        "colab": {
          "base_uri": "https://localhost:8080/"
        },
        "id": "bbmUHL1Lv0sN",
        "outputId": "818b2461-02b9-4978-a0b5-1b658b09b920"
      },
      "execution_count": 13,
      "outputs": [
        {
          "output_type": "stream",
          "name": "stdout",
          "text": [
            "Mean Absolute Error: 90.80\n",
            "Mean Squared Error: 8244.64\n"
          ]
        }
      ]
    },
    {
      "cell_type": "markdown",
      "source": [
        "**Explanation of Model Performance (Random Forest Regressor)**<br>\n",
        "\n",
        "What Do These Numbers Mean?<br>\n",
        "\n",
        "When we evaluate a predictive model, we use error metrics to measure how far off the model’s predictions are from the actual sales data.<br>\n",
        "\n",
        "Understanding the Errors<br>\n",
        "- Mean Absolute Error (MAE) = 90.80<br>\n",
        "This means, on average, our model’s predictions are off by around 91 units when forecasting sales.<br>\n",
        "A lower MAE is better, as it indicates more accurate predictions.<br>\n",
        "- Mean Squared Error (MSE) = 8,244.64<br>\n",
        "This number represents the average of squared differences between the predicted and actual values.<br>\n",
        "Since errors are squared, larger errors impact this value more, making it useful for spotting major prediction mistakes.<br>\n",
        "The higher this value, the more inaccurate our model is.<br>"
      ],
      "metadata": {
        "id": "Tb6ChhqbsLmk"
      }
    },
    {
      "cell_type": "markdown",
      "source": [
        "## Feature Prediction"
      ],
      "metadata": {
        "id": "H7HdvOdav9kw"
      }
    },
    {
      "cell_type": "code",
      "source": [
        "# Predict future sales for the next 6 months\n",
        "future_X = np.arange(len(monthly_sales), len(monthly_sales) + 6).reshape(-1, 1)\n",
        "future_predictions = rf_model.predict(future_X)\n",
        "\n",
        "# Display future predictions\n",
        "print(\"Future Sales Prediction for the next 6 months:\")\n",
        "for i, prediction in enumerate(future_predictions, 1):\n",
        "    print(f\"Month {i}: {prediction:.2f} units\")"
      ],
      "metadata": {
        "colab": {
          "base_uri": "https://localhost:8080/"
        },
        "id": "eHTaS48wwBd3",
        "outputId": "c755c7e6-4943-4d79-a20c-2c0fc9ce832f"
      },
      "execution_count": 14,
      "outputs": [
        {
          "output_type": "stream",
          "name": "stdout",
          "text": [
            "Future Sales Prediction for the next 6 months:\n",
            "Month 1: 845.52 units\n",
            "Month 2: 845.52 units\n",
            "Month 3: 845.52 units\n",
            "Month 4: 845.52 units\n",
            "Month 5: 845.52 units\n",
            "Month 6: 845.52 units\n"
          ]
        }
      ]
    },
    {
      "cell_type": "markdown",
      "source": [
        "Explanation of Future Sales Prediction <br>\n",
        "\n",
        "What Do These Predictions Mean?<br>\n",
        "\n",
        "The model is forecasting that sales for the next six months will remain constant at 845.52 units per month.<br>\n",
        "\n",
        "What This Suggests?<br>\n",
        "\n",
        "- The model is likely overgeneralizing and predicting an average sales value instead of detecting real trends.<br>\n",
        "- This could be due to insufficient patterns in the data or the model not capturing seasonality or trends properly.<br>\n",
        "- In reality, sales numbers fluctuate due to factors like demand, promotions, and seasonal effects, but the model does not seem to account for these.<br>"
      ],
      "metadata": {
        "id": "VoZOovkQszrM"
      }
    },
    {
      "cell_type": "code",
      "source": [
        "print(sales_df.columns)"
      ],
      "metadata": {
        "colab": {
          "base_uri": "https://localhost:8080/"
        },
        "id": "r7bFZq3Ek_Do",
        "outputId": "16868ee0-07d7-4247-a608-ef1afccd81fc"
      },
      "execution_count": 20,
      "outputs": [
        {
          "output_type": "stream",
          "name": "stdout",
          "text": [
            "Index(['product', 'quantity', 'price', 'sale_date', 'year_month'], dtype='object')\n"
          ]
        }
      ]
    },
    {
      "cell_type": "markdown",
      "source": [
        "## Data Visualization - Interactive Dashboard"
      ],
      "metadata": {
        "id": "vdwSns6Ta-pI"
      }
    },
    {
      "cell_type": "code",
      "source": [
        "sales_df['total_price'] = sales_df['quantity'] * sales_df['price']\n",
        "\n",
        "# 1 Total Sales Trend Over Time\n",
        "plt.figure(figsize=(12, 5))\n",
        "sales_df.groupby(sales_df['sale_date'].dt.to_period('M'))['total_price'].sum().plot(kind='line', marker='o', color='b')\n",
        "plt.title(\"Total Sales Over Time\")\n",
        "plt.xlabel(\"Month\")\n",
        "plt.ylabel(\"Total Sales ($)\")\n",
        "plt.grid(True)\n",
        "plt.show()\n"
      ],
      "metadata": {
        "colab": {
          "base_uri": "https://localhost:8080/",
          "height": 502
        },
        "id": "cPTBLfpeyE7i",
        "outputId": "3f5e0e65-3fe6-4ffe-b260-79edb1b94620"
      },
      "execution_count": 28,
      "outputs": [
        {
          "output_type": "display_data",
          "data": {
            "text/plain": [
              "<Figure size 1200x500 with 1 Axes>"
            ],
            "image/png": "[encoded data removed]"
          },
          "metadata": {}
        }
      ]
    },
    {
      "cell_type": "code",
      "source": [
        "# 2 Top-Selling Products\n",
        "top_products = sales_df.groupby('product')['quantity'].sum().sort_values(ascending=False).head(5)\n",
        "print(\"\\nTop 5 Best-Selling Products:\\n\", top_products)"
      ],
      "metadata": {
        "colab": {
          "base_uri": "https://localhost:8080/"
        },
        "id": "ept9YoI3oo0R",
        "outputId": "3185442b-d9d3-48d2-c854-f47de129d9bf"
      },
      "execution_count": 29,
      "outputs": [
        {
          "output_type": "stream",
          "name": "stdout",
          "text": [
            "\n",
            "Top 5 Best-Selling Products:\n",
            " product\n",
            "Tablet        1165\n",
            "Smartwatch    1138\n",
            "Headphones    1126\n",
            "Smartphone    1100\n",
            "Laptop        1072\n",
            "Name: quantity, dtype: int64\n"
          ]
        }
      ]
    },
    {
      "cell_type": "code",
      "source": [
        "# 3 Seasonality Check (Sales by Month)\n",
        "sales_df['month'] = sales_df['sale_date'].dt.month\n",
        "monthly_sales = sales_df.groupby('month')['quantity'].sum()\n",
        "plt.figure(figsize=(10, 4))\n",
        "monthly_sales.plot(kind='bar', color='green')\n",
        "plt.title(\"Sales Distribution Across Months\")\n",
        "plt.xlabel(\"Month\")\n",
        "plt.ylabel(\"Total Quantity Sold\")\n",
        "plt.xticks(rotation=0)\n",
        "plt.show()"
      ],
      "metadata": {
        "colab": {
          "base_uri": "https://localhost:8080/",
          "height": 410
        },
        "id": "GG4szgtoop4p",
        "outputId": "2a6c8473-aabe-4f34-9389-bd0cd641e2d0"
      },
      "execution_count": 30,
      "outputs": [
        {
          "output_type": "display_data",
          "data": {
            "text/plain": [
              "<Figure size 1000x400 with 1 Axes>"
            ],
            "image/png": "[encoded data removed]"
          },
          "metadata": {}
        }
      ]
    },
    {
      "cell_type": "code",
      "source": [
        "# 4 Average Sale Price & Quantity Sold Per Product\n",
        "product_sales = sales_df.groupby('product').agg({'total_price': 'sum', 'quantity': 'sum'})\n",
        "product_sales['avg_price'] = product_sales['total_price'] / product_sales['quantity']\n",
        "print(\"\\nAverage Sale Price & Quantity Sold:\\n\", product_sales.sort_values(by='quantity', ascending=False).head(5))\n"
      ],
      "metadata": {
        "colab": {
          "base_uri": "https://localhost:8080/"
        },
        "id": "9p4bX_9cotOF",
        "outputId": "777720a1-8af9-43fe-a534-27b4bb1657dc"
      },
      "execution_count": 31,
      "outputs": [
        {
          "output_type": "stream",
          "name": "stdout",
          "text": [
            "\n",
            "Average Sale Price & Quantity Sold:\n",
            "             total_price  quantity    avg_price\n",
            "product                                       \n",
            "Tablet       1279786.76      1165  1098.529408\n",
            "Smartwatch   1159098.24      1138  1018.539754\n",
            "Headphones   1099061.50      1126   976.075933\n",
            "Smartphone   1151538.04      1100  1046.852764\n",
            "Laptop       1201274.75      1072  1120.592118\n"
          ]
        }
      ]
    },
    {
      "cell_type": "markdown",
      "source": [
        "1.\tTop 5 Best-Selling Products <br>\n",
        "- Tablets, smartwatches, and headphones are the highest-selling products.<br>\n",
        "- Tablets lead with 1,165 units sold, followed by Smartwatches (1,138) and Headphones (1,126).<br>\n",
        "- The average price for these products ranges from ~USD976 (Headphones) to ~USD1,120 (Laptop).<br>\n",
        "2.\tSales Distribution Across Months (Bar Chart)<br>\n",
        "- Sales were highest in January and March.<br>\n",
        "- A sharp decline is visible in April, which might indicate seasonality, inventory issues, or reduced demand.<br>\n",
        "3.\tTotal Sales Over Time (Line Chart)<br>\n",
        "- A declining trend, especially in April, where sales drop significantly.<br>\n",
        "- February and March appear to have stable sales.<br>\n",
        "4.\tAverage Sale Price & Quantity Sold (Table)<br>\n",
        "- Despite being the top-selling product, Tablets are not the most expensive.<br>\n",
        "- Laptops have the highest average price but are not the top-selling item.<br>"
      ],
      "metadata": {
        "id": "oib40PactSpv"
      }
    },
    {
      "cell_type": "code",
      "source": [
        "# Step 4: Visualization Dashboard\n",
        "# Convert 'year_month' to string to avoid JSON serialization error\n",
        "sales_df['year_month'] = sales_df['year_month'].astype(str)\n",
        "\n",
        "# Dropdown for product selection\n",
        "selected_product = 'Tablet'  # Default selection\n",
        "\n",
        "# Filter data\n",
        "filtered_df = sales_df[sales_df['product'] == selected_product]\n",
        "\n",
        "# Interactive bar chart - Monthly Sales\n",
        "fig1 = px.bar(filtered_df, x='year_month', y='quantity', title=f\"Sales of {selected_product} Over Time\")\n",
        "\n",
        "# Line chart - Total Sales Trend\n",
        "fig2 = px.line(sales_df.groupby('year_month')['price'].sum().reset_index(),\n",
        "               x='year_month', y='price', markers=True, title=\"Total Sales Over Time\")\n",
        "\n",
        "# Show plots\n",
        "fig1.show()\n",
        "fig2.show()"
      ],
      "metadata": {
        "colab": {
          "base_uri": "https://localhost:8080/",
          "height": 1000
        },
        "id": "jcZFqL83v5QZ",
        "outputId": "2c2f3ac9-8f2f-4a9d-972f-c044fa90eed2"
      },
      "execution_count": 27,
      "outputs": [
        {
          "output_type": "display_data",
          "data": {
            "text/html": [
              "<html>\n",
              "<head><meta charset=\"utf-8\" /></head>\n",
              "<body>\n",
              "    <div>            <script src=\"https://cdnjs.cloudflare.com/ajax/libs/mathjax/2.7.5/MathJax.js?config=TeX-AMS-MML_SVG\"></script><script type=\"text/javascript\">if (window.MathJax && window.MathJax.Hub && window.MathJax.Hub.Config) {window.MathJax.Hub.Config({SVG: {font: \"STIX-Web\"}});}</script>                <script type=\"text/javascript\">window.PlotlyConfig = {MathJaxConfig: 'local'};</script>\n",
              "        <script charset=\"utf-8\" src=\"https://cdn.plot.ly/plotly-2.35.2.min.js\"></script>                <div id=\"f0957759-fd27-4309-89d9-4629908d6ef2\" class=\"plotly-graph-div\" style=\"height:525px; width:100%;\"></div>            <script type=\"text/javascript\">                                    window.PLOTLYENV=window.PLOTLYENV || {};                                    if (document.getElementById(\"f0957759-fd27-4309-89d9-4629908d6ef2\")) {                    Plotly.newPlot(                        \"f0957759-fd27-4309-89d9-4629908d6ef2\",                        [{\"alignmentgroup\":\"True\",\"hovertemplate\":\"year_month=%{x}\\u003cbr\\u003equantity=%{y}\\u003cextra\\u003e\\u003c\\u002fextra\\u003e\",\"legendgroup\":\"\",\"marker\":{\"color\":\"#636efa\",\"pattern\":{\"shape\":\"\"}},\"name\":\"\",\"offsetgroup\":\"\",\"orientation\":\"v\",\"showlegend\":false,\"textposition\":\"auto\",\"x\":[\"2024-01\",\"2024-01\",\"2024-01\",\"2024-01\",\"2024-01\",\"2024-02\",\"2024-02\",\"2024-02\",\"2024-03\",\"2024-02\",\"2024-02\",\"2024-01\",\"2024-01\",\"2024-01\",\"2024-04\",\"2024-01\",\"2024-01\",\"2024-04\",\"2024-01\",\"2024-03\",\"2024-03\",\"2024-01\",\"2024-04\",\"2024-02\",\"2024-02\",\"2024-03\",\"2024-01\",\"2024-01\",\"2024-02\",\"2024-03\",\"2024-01\",\"2024-02\",\"2024-01\",\"2024-02\",\"2024-01\",\"2024-04\",\"2024-02\",\"2024-03\",\"2024-02\",\"2024-03\",\"2024-01\",\"2024-02\",\"2024-03\",\"2024-01\",\"2024-03\",\"2024-02\",\"2024-02\",\"2024-01\",\"2024-02\",\"2024-02\",\"2024-01\",\"2024-04\",\"2024-02\",\"2024-01\",\"2024-02\",\"2024-04\",\"2024-01\",\"2024-03\",\"2024-03\",\"2024-03\",\"2024-01\",\"2024-01\",\"2024-02\",\"2024-03\",\"2024-01\",\"2024-02\",\"2024-01\",\"2024-03\",\"2024-03\",\"2024-01\",\"2024-03\",\"2024-01\",\"2024-02\",\"2024-04\",\"2024-03\",\"2024-03\",\"2024-03\",\"2024-03\",\"2024-01\",\"2024-02\",\"2024-03\",\"2024-01\",\"2024-01\",\"2024-01\",\"2024-03\",\"2024-01\",\"2024-02\",\"2024-03\",\"2024-02\",\"2024-02\",\"2024-03\",\"2024-02\",\"2024-01\",\"2024-03\",\"2024-03\",\"2024-03\",\"2024-03\",\"2024-01\",\"2024-03\",\"2024-03\",\"2024-01\",\"2024-01\",\"2024-04\",\"2024-04\",\"2024-01\",\"2024-03\",\"2024-03\",\"2024-02\",\"2024-01\",\"2024-03\",\"2024-02\",\"2024-03\",\"2024-03\",\"2024-02\",\"2024-02\",\"2024-02\",\"2024-03\",\"2024-04\",\"2024-03\",\"2024-02\",\"2024-03\",\"2024-01\",\"2024-04\",\"2024-01\",\"2024-03\",\"2024-03\",\"2024-03\",\"2024-02\",\"2024-01\",\"2024-02\",\"2024-01\",\"2024-01\",\"2024-01\",\"2024-01\",\"2024-01\",\"2024-01\",\"2024-02\",\"2024-01\",\"2024-01\",\"2024-01\",\"2024-03\",\"2024-03\",\"2024-01\",\"2024-02\",\"2024-03\",\"2024-01\",\"2024-02\",\"2024-01\",\"2024-01\",\"2024-03\",\"2024-02\",\"2024-01\",\"2024-04\",\"2024-02\",\"2024-03\",\"2024-01\",\"2024-01\",\"2024-02\",\"2024-03\",\"2024-02\",\"2024-03\",\"2024-02\",\"2024-01\",\"2024-03\",\"2024-03\",\"2024-01\",\"2024-02\",\"2024-02\",\"2024-02\",\"2024-03\",\"2024-03\",\"2024-01\",\"2024-03\",\"2024-03\",\"2024-03\",\"2024-04\",\"2024-01\",\"2024-01\",\"2024-03\",\"2024-03\",\"2024-02\",\"2024-02\",\"2024-01\",\"2024-03\",\"2024-03\",\"2024-02\",\"2024-03\",\"2024-03\",\"2024-04\",\"2024-03\",\"2024-01\",\"2024-03\",\"2024-04\",\"2024-01\",\"2024-01\",\"2024-03\",\"2024-02\",\"2024-02\",\"2024-01\",\"2024-02\",\"2024-04\",\"2024-03\",\"2024-02\",\"2024-03\",\"2024-04\",\"2024-03\",\"2024-02\",\"2024-02\",\"2024-02\",\"2024-04\"],\"xaxis\":\"x\",\"y\":[1,2,6,2,2,9,4,6,9,8,2,2,8,4,8,3,2,2,9,3,4,5,5,6,3,7,1,10,9,7,9,8,9,7,7,4,2,10,1,5,9,4,10,5,10,4,8,2,10,5,10,10,3,6,7,5,9,5,6,10,6,8,7,4,6,8,2,5,2,10,9,1,1,8,6,3,6,1,6,10,3,4,3,4,3,2,7,2,9,3,2,3,4,3,3,9,3,9,5,6,6,5,7,3,9,4,3,6,10,8,7,3,10,8,10,9,4,8,5,3,8,9,8,6,1,8,3,3,10,4,10,6,6,1,2,4,7,3,2,5,5,5,7,4,5,9,7,10,9,10,2,7,5,10,5,2,4,1,2,9,10,3,9,9,10,7,8,2,6,1,2,4,3,2,3,3,2,7,10,5,3,2,5,8,8,10,3,1,9,3,6,10,3,3,2,10,4,4,10,2,2,7,1,5,9,8,2,10,7,5],\"yaxis\":\"y\",\"type\":\"bar\"}],                        {\"template\":{\"data\":{\"histogram2dcontour\":[{\"type\":\"histogram2dcontour\",\"colorbar\":{\"outlinewidth\":0,\"ticks\":\"\"},\"colorscale\":[[0.0,\"#0d0887\"],[0.1111111111111111,\"#46039f\"],[0.2222222222222222,\"#7201a8\"],[0.3333333333333333,\"#9c179e\"],[0.4444444444444444,\"#bd3786\"],[0.5555555555555556,\"#d8576b\"],[0.6666666666666666,\"#ed7953\"],[0.7777777777777778,\"#fb9f3a\"],[0.8888888888888888,\"#fdca26\"],[1.0,\"#f0f921\"]]}],\"choropleth\":[{\"type\":\"choropleth\",\"colorbar\":{\"outlinewidth\":0,\"ticks\":\"\"}}],\"histogram2d\":[{\"type\":\"histogram2d\",\"colorbar\":{\"outlinewidth\":0,\"ticks\":\"\"},\"colorscale\":[[0.0,\"#0d0887\"],[0.1111111111111111,\"#46039f\"],[0.2222222222222222,\"#7201a8\"],[0.3333333333333333,\"#9c179e\"],[0.4444444444444444,\"#bd3786\"],[0.5555555555555556,\"#d8576b\"],[0.6666666666666666,\"#ed7953\"],[0.7777777777777778,\"#fb9f3a\"],[0.8888888888888888,\"#fdca26\"],[1.0,\"#f0f921\"]]}],\"heatmap\":[{\"type\":\"heatmap\",\"colorbar\":{\"outlinewidth\":0,\"ticks\":\"\"},\"colorscale\":[[0.0,\"#0d0887\"],[0.1111111111111111,\"#46039f\"],[0.2222222222222222,\"#7201a8\"],[0.3333333333333333,\"#9c179e\"],[0.4444444444444444,\"#bd3786\"],[0.5555555555555556,\"#d8576b\"],[0.6666666666666666,\"#ed7953\"],[0.7777777777777778,\"#fb9f3a\"],[0.8888888888888888,\"#fdca26\"],[1.0,\"#f0f921\"]]}],\"heatmapgl\":[{\"type\":\"heatmapgl\",\"colorbar\":{\"outlinewidth\":0,\"ticks\":\"\"},\"colorscale\":[[0.0,\"#0d0887\"],[0.1111111111111111,\"#46039f\"],[0.2222222222222222,\"#7201a8\"],[0.3333333333333333,\"#9c179e\"],[0.4444444444444444,\"#bd3786\"],[0.5555555555555556,\"#d8576b\"],[0.6666666666666666,\"#ed7953\"],[0.7777777777777778,\"#fb9f3a\"],[0.8888888888888888,\"#fdca26\"],[1.0,\"#f0f921\"]]}],\"contourcarpet\":[{\"type\":\"contourcarpet\",\"colorbar\":{\"outlinewidth\":0,\"ticks\":\"\"}}],\"contour\":[{\"type\":\"contour\",\"colorbar\":{\"outlinewidth\":0,\"ticks\":\"\"},\"colorscale\":[[0.0,\"#0d0887\"],[0.1111111111111111,\"#46039f\"],[0.2222222222222222,\"#7201a8\"],[0.3333333333333333,\"#9c179e\"],[0.4444444444444444,\"#bd3786\"],[0.5555555555555556,\"#d8576b\"],[0.6666666666666666,\"#ed7953\"],[0.7777777777777778,\"#fb9f3a\"],[0.8888888888888888,\"#fdca26\"],[1.0,\"#f0f921\"]]}],\"surface\":[{\"type\":\"surface\",\"colorbar\":{\"outlinewidth\":0,\"ticks\":\"\"},\"colorscale\":[[0.0,\"#0d0887\"],[0.1111111111111111,\"#46039f\"],[0.2222222222222222,\"#7201a8\"],[0.3333333333333333,\"#9c179e\"],[0.4444444444444444,\"#bd3786\"],[0.5555555555555556,\"#d8576b\"],[0.6666666666666666,\"#ed7953\"],[0.7777777777777778,\"#fb9f3a\"],[0.8888888888888888,\"#fdca26\"],[1.0,\"#f0f921\"]]}],\"mesh3d\":[{\"type\":\"mesh3d\",\"colorbar\":{\"outlinewidth\":0,\"ticks\":\"\"}}],\"scatter\":[{\"fillpattern\":{\"fillmode\":\"overlay\",\"size\":10,\"solidity\":0.2},\"type\":\"scatter\"}],\"parcoords\":[{\"type\":\"parcoords\",\"line\":{\"colorbar\":{\"outlinewidth\":0,\"ticks\":\"\"}}}],\"scatterpolargl\":[{\"type\":\"scatterpolargl\",\"marker\":{\"colorbar\":{\"outlinewidth\":0,\"ticks\":\"\"}}}],\"bar\":[{\"error_x\":{\"color\":\"#2a3f5f\"},\"error_y\":{\"color\":\"#2a3f5f\"},\"marker\":{\"line\":{\"color\":\"#E5ECF6\",\"width\":0.5},\"pattern\":{\"fillmode\":\"overlay\",\"size\":10,\"solidity\":0.2}},\"type\":\"bar\"}],\"scattergeo\":[{\"type\":\"scattergeo\",\"marker\":{\"colorbar\":{\"outlinewidth\":0,\"ticks\":\"\"}}}],\"scatterpolar\":[{\"type\":\"scatterpolar\",\"marker\":{\"colorbar\":{\"outlinewidth\":0,\"ticks\":\"\"}}}],\"histogram\":[{\"marker\":{\"pattern\":{\"fillmode\":\"overlay\",\"size\":10,\"solidity\":0.2}},\"type\":\"histogram\"}],\"scattergl\":[{\"type\":\"scattergl\",\"marker\":{\"colorbar\":{\"outlinewidth\":0,\"ticks\":\"\"}}}],\"scatter3d\":[{\"type\":\"scatter3d\",\"line\":{\"colorbar\":{\"outlinewidth\":0,\"ticks\":\"\"}},\"marker\":{\"colorbar\":{\"outlinewidth\":0,\"ticks\":\"\"}}}],\"scattermapbox\":[{\"type\":\"scattermapbox\",\"marker\":{\"colorbar\":{\"outlinewidth\":0,\"ticks\":\"\"}}}],\"scatterternary\":[{\"type\":\"scatterternary\",\"marker\":{\"colorbar\":{\"outlinewidth\":0,\"ticks\":\"\"}}}],\"scattercarpet\":[{\"type\":\"scattercarpet\",\"marker\":{\"colorbar\":{\"outlinewidth\":0,\"ticks\":\"\"}}}],\"carpet\":[{\"aaxis\":{\"endlinecolor\":\"#2a3f5f\",\"gridcolor\":\"white\",\"linecolor\":\"white\",\"minorgridcolor\":\"white\",\"startlinecolor\":\"#2a3f5f\"},\"baxis\":{\"endlinecolor\":\"#2a3f5f\",\"gridcolor\":\"white\",\"linecolor\":\"white\",\"minorgridcolor\":\"white\",\"startlinecolor\":\"#2a3f5f\"},\"type\":\"carpet\"}],\"table\":[{\"cells\":{\"fill\":{\"color\":\"#EBF0F8\"},\"line\":{\"color\":\"white\"}},\"header\":{\"fill\":{\"color\":\"#C8D4E3\"},\"line\":{\"color\":\"white\"}},\"type\":\"table\"}],\"barpolar\":[{\"marker\":{\"line\":{\"color\":\"#E5ECF6\",\"width\":0.5},\"pattern\":{\"fillmode\":\"overlay\",\"size\":10,\"solidity\":0.2}},\"type\":\"barpolar\"}],\"pie\":[{\"automargin\":true,\"type\":\"pie\"}]},\"layout\":{\"autotypenumbers\":\"strict\",\"colorway\":[\"#636efa\",\"#EF553B\",\"#00cc96\",\"#ab63fa\",\"#FFA15A\",\"#19d3f3\",\"#FF6692\",\"#B6E880\",\"#FF97FF\",\"#FECB52\"],\"font\":{\"color\":\"#2a3f5f\"},\"hovermode\":\"closest\",\"hoverlabel\":{\"align\":\"left\"},\"paper_bgcolor\":\"white\",\"plot_bgcolor\":\"#E5ECF6\",\"polar\":{\"bgcolor\":\"#E5ECF6\",\"angularaxis\":{\"gridcolor\":\"white\",\"linecolor\":\"white\",\"ticks\":\"\"},\"radialaxis\":{\"gridcolor\":\"white\",\"linecolor\":\"white\",\"ticks\":\"\"}},\"ternary\":{\"bgcolor\":\"#E5ECF6\",\"aaxis\":{\"gridcolor\":\"white\",\"linecolor\":\"white\",\"ticks\":\"\"},\"baxis\":{\"gridcolor\":\"white\",\"linecolor\":\"white\",\"ticks\":\"\"},\"caxis\":{\"gridcolor\":\"white\",\"linecolor\":\"white\",\"ticks\":\"\"}},\"coloraxis\":{\"colorbar\":{\"outlinewidth\":0,\"ticks\":\"\"}},\"colorscale\":{\"sequential\":[[0.0,\"#0d0887\"],[0.1111111111111111,\"#46039f\"],[0.2222222222222222,\"#7201a8\"],[0.3333333333333333,\"#9c179e\"],[0.4444444444444444,\"#bd3786\"],[0.5555555555555556,\"#d8576b\"],[0.6666666666666666,\"#ed7953\"],[0.7777777777777778,\"#fb9f3a\"],[0.8888888888888888,\"#fdca26\"],[1.0,\"#f0f921\"]],\"sequentialminus\":[[0.0,\"#0d0887\"],[0.1111111111111111,\"#46039f\"],[0.2222222222222222,\"#7201a8\"],[0.3333333333333333,\"#9c179e\"],[0.4444444444444444,\"#bd3786\"],[0.5555555555555556,\"#d8576b\"],[0.6666666666666666,\"#ed7953\"],[0.7777777777777778,\"#fb9f3a\"],[0.8888888888888888,\"#fdca26\"],[1.0,\"#f0f921\"]],\"diverging\":[[0,\"#8e0152\"],[0.1,\"#c51b7d\"],[0.2,\"#de77ae\"],[0.3,\"#f1b6da\"],[0.4,\"#fde0ef\"],[0.5,\"#f7f7f7\"],[0.6,\"#e6f5d0\"],[0.7,\"#b8e186\"],[0.8,\"#7fbc41\"],[0.9,\"#4d9221\"],[1,\"#276419\"]]},\"xaxis\":{\"gridcolor\":\"white\",\"linecolor\":\"white\",\"ticks\":\"\",\"title\":{\"standoff\":15},\"zerolinecolor\":\"white\",\"automargin\":true,\"zerolinewidth\":2},\"yaxis\":{\"gridcolor\":\"white\",\"linecolor\":\"white\",\"ticks\":\"\",\"title\":{\"standoff\":15},\"zerolinecolor\":\"white\",\"automargin\":true,\"zerolinewidth\":2},\"scene\":{\"xaxis\":{\"backgroundcolor\":\"#E5ECF6\",\"gridcolor\":\"white\",\"linecolor\":\"white\",\"showbackground\":true,\"ticks\":\"\",\"zerolinecolor\":\"white\",\"gridwidth\":2},\"yaxis\":{\"backgroundcolor\":\"#E5ECF6\",\"gridcolor\":\"white\",\"linecolor\":\"white\",\"showbackground\":true,\"ticks\":\"\",\"zerolinecolor\":\"white\",\"gridwidth\":2},\"zaxis\":{\"backgroundcolor\":\"#E5ECF6\",\"gridcolor\":\"white\",\"linecolor\":\"white\",\"showbackground\":true,\"ticks\":\"\",\"zerolinecolor\":\"white\",\"gridwidth\":2}},\"shapedefaults\":{\"line\":{\"color\":\"#2a3f5f\"}},\"annotationdefaults\":{\"arrowcolor\":\"#2a3f5f\",\"arrowhead\":0,\"arrowwidth\":1},\"geo\":{\"bgcolor\":\"white\",\"landcolor\":\"#E5ECF6\",\"subunitcolor\":\"white\",\"showland\":true,\"showlakes\":true,\"lakecolor\":\"white\"},\"title\":{\"x\":0.05},\"mapbox\":{\"style\":\"light\"}}},\"xaxis\":{\"anchor\":\"y\",\"domain\":[0.0,1.0],\"title\":{\"text\":\"year_month\"}},\"yaxis\":{\"anchor\":\"x\",\"domain\":[0.0,1.0],\"title\":{\"text\":\"quantity\"}},\"legend\":{\"tracegroupgap\":0},\"title\":{\"text\":\"Sales of Tablet Over Time\"},\"barmode\":\"relative\"},                        {\"responsive\": true}                    ).then(function(){\n",
              "                            \n",
              "var gd = document.getElementById('f0957759-fd27-4309-89d9-4629908d6ef2');\n",
              "var x = new MutationObserver(function (mutations, observer) {{\n",
              "        var display = window.getComputedStyle(gd).display;\n",
              "        if (!display || display === 'none') {{\n",
              "            console.log([gd, 'removed!']);\n",
              "            Plotly.purge(gd);\n",
              "            observer.disconnect();\n",
              "        }}\n",
              "}});\n",
              "\n",
              "// Listen for the removal of the full notebook cells\n",
              "var notebookContainer = gd.closest('#notebook-container');\n",
              "if (notebookContainer) {{\n",
              "    x.observe(notebookContainer, {childList: true});\n",
              "}}\n",
              "\n",
              "// Listen for the clearing of the current output cell\n",
              "var outputEl = gd.closest('.output');\n",
              "if (outputEl) {{\n",
              "    x.observe(outputEl, {childList: true});\n",
              "}}\n",
              "\n",
              "                        })                };                            </script>        </div>\n",
              "</body>\n",
              "</html>"
            ]
          },
          "metadata": {}
        },
        {
          "output_type": "display_data",
          "data": {
            "text/html": [
              "<html>\n",
              "<head><meta charset=\"utf-8\" /></head>\n",
              "<body>\n",
              "    <div>            <script src=\"https://cdnjs.cloudflare.com/ajax/libs/mathjax/2.7.5/MathJax.js?config=TeX-AMS-MML_SVG\"></script><script type=\"text/javascript\">if (window.MathJax && window.MathJax.Hub && window.MathJax.Hub.Config) {window.MathJax.Hub.Config({SVG: {font: \"STIX-Web\"}});}</script>                <script type=\"text/javascript\">window.PlotlyConfig = {MathJaxConfig: 'local'};</script>\n",
              "        <script charset=\"utf-8\" src=\"https://cdn.plot.ly/plotly-2.35.2.min.js\"></script>                <div id=\"45f3fe22-fd52-4a1d-b9b8-98179c0b00b7\" class=\"plotly-graph-div\" style=\"height:525px; width:100%;\"></div>            <script type=\"text/javascript\">                                    window.PLOTLYENV=window.PLOTLYENV || {};                                    if (document.getElementById(\"45f3fe22-fd52-4a1d-b9b8-98179c0b00b7\")) {                    Plotly.newPlot(                        \"45f3fe22-fd52-4a1d-b9b8-98179c0b00b7\",                        [{\"hovertemplate\":\"year_month=%{x}\\u003cbr\\u003eprice=%{y}\\u003cextra\\u003e\\u003c\\u002fextra\\u003e\",\"legendgroup\":\"\",\"line\":{\"color\":\"#636efa\",\"dash\":\"solid\"},\"marker\":{\"symbol\":\"circle\"},\"mode\":\"lines+markers\",\"name\":\"\",\"orientation\":\"v\",\"showlegend\":false,\"x\":[\"2024-01\",\"2024-02\",\"2024-03\",\"2024-04\"],\"xaxis\":\"x\",\"y\":[331669.88,309149.09,310566.02,97645.25],\"yaxis\":\"y\",\"type\":\"scatter\"}],                        {\"template\":{\"data\":{\"histogram2dcontour\":[{\"type\":\"histogram2dcontour\",\"colorbar\":{\"outlinewidth\":0,\"ticks\":\"\"},\"colorscale\":[[0.0,\"#0d0887\"],[0.1111111111111111,\"#46039f\"],[0.2222222222222222,\"#7201a8\"],[0.3333333333333333,\"#9c179e\"],[0.4444444444444444,\"#bd3786\"],[0.5555555555555556,\"#d8576b\"],[0.6666666666666666,\"#ed7953\"],[0.7777777777777778,\"#fb9f3a\"],[0.8888888888888888,\"#fdca26\"],[1.0,\"#f0f921\"]]}],\"choropleth\":[{\"type\":\"choropleth\",\"colorbar\":{\"outlinewidth\":0,\"ticks\":\"\"}}],\"histogram2d\":[{\"type\":\"histogram2d\",\"colorbar\":{\"outlinewidth\":0,\"ticks\":\"\"},\"colorscale\":[[0.0,\"#0d0887\"],[0.1111111111111111,\"#46039f\"],[0.2222222222222222,\"#7201a8\"],[0.3333333333333333,\"#9c179e\"],[0.4444444444444444,\"#bd3786\"],[0.5555555555555556,\"#d8576b\"],[0.6666666666666666,\"#ed7953\"],[0.7777777777777778,\"#fb9f3a\"],[0.8888888888888888,\"#fdca26\"],[1.0,\"#f0f921\"]]}],\"heatmap\":[{\"type\":\"heatmap\",\"colorbar\":{\"outlinewidth\":0,\"ticks\":\"\"},\"colorscale\":[[0.0,\"#0d0887\"],[0.1111111111111111,\"#46039f\"],[0.2222222222222222,\"#7201a8\"],[0.3333333333333333,\"#9c179e\"],[0.4444444444444444,\"#bd3786\"],[0.5555555555555556,\"#d8576b\"],[0.6666666666666666,\"#ed7953\"],[0.7777777777777778,\"#fb9f3a\"],[0.8888888888888888,\"#fdca26\"],[1.0,\"#f0f921\"]]}],\"heatmapgl\":[{\"type\":\"heatmapgl\",\"colorbar\":{\"outlinewidth\":0,\"ticks\":\"\"},\"colorscale\":[[0.0,\"#0d0887\"],[0.1111111111111111,\"#46039f\"],[0.2222222222222222,\"#7201a8\"],[0.3333333333333333,\"#9c179e\"],[0.4444444444444444,\"#bd3786\"],[0.5555555555555556,\"#d8576b\"],[0.6666666666666666,\"#ed7953\"],[0.7777777777777778,\"#fb9f3a\"],[0.8888888888888888,\"#fdca26\"],[1.0,\"#f0f921\"]]}],\"contourcarpet\":[{\"type\":\"contourcarpet\",\"colorbar\":{\"outlinewidth\":0,\"ticks\":\"\"}}],\"contour\":[{\"type\":\"contour\",\"colorbar\":{\"outlinewidth\":0,\"ticks\":\"\"},\"colorscale\":[[0.0,\"#0d0887\"],[0.1111111111111111,\"#46039f\"],[0.2222222222222222,\"#7201a8\"],[0.3333333333333333,\"#9c179e\"],[0.4444444444444444,\"#bd3786\"],[0.5555555555555556,\"#d8576b\"],[0.6666666666666666,\"#ed7953\"],[0.7777777777777778,\"#fb9f3a\"],[0.8888888888888888,\"#fdca26\"],[1.0,\"#f0f921\"]]}],\"surface\":[{\"type\":\"surface\",\"colorbar\":{\"outlinewidth\":0,\"ticks\":\"\"},\"colorscale\":[[0.0,\"#0d0887\"],[0.1111111111111111,\"#46039f\"],[0.2222222222222222,\"#7201a8\"],[0.3333333333333333,\"#9c179e\"],[0.4444444444444444,\"#bd3786\"],[0.5555555555555556,\"#d8576b\"],[0.6666666666666666,\"#ed7953\"],[0.7777777777777778,\"#fb9f3a\"],[0.8888888888888888,\"#fdca26\"],[1.0,\"#f0f921\"]]}],\"mesh3d\":[{\"type\":\"mesh3d\",\"colorbar\":{\"outlinewidth\":0,\"ticks\":\"\"}}],\"scatter\":[{\"fillpattern\":{\"fillmode\":\"overlay\",\"size\":10,\"solidity\":0.2},\"type\":\"scatter\"}],\"parcoords\":[{\"type\":\"parcoords\",\"line\":{\"colorbar\":{\"outlinewidth\":0,\"ticks\":\"\"}}}],\"scatterpolargl\":[{\"type\":\"scatterpolargl\",\"marker\":{\"colorbar\":{\"outlinewidth\":0,\"ticks\":\"\"}}}],\"bar\":[{\"error_x\":{\"color\":\"#2a3f5f\"},\"error_y\":{\"color\":\"#2a3f5f\"},\"marker\":{\"line\":{\"color\":\"#E5ECF6\",\"width\":0.5},\"pattern\":{\"fillmode\":\"overlay\",\"size\":10,\"solidity\":0.2}},\"type\":\"bar\"}],\"scattergeo\":[{\"type\":\"scattergeo\",\"marker\":{\"colorbar\":{\"outlinewidth\":0,\"ticks\":\"\"}}}],\"scatterpolar\":[{\"type\":\"scatterpolar\",\"marker\":{\"colorbar\":{\"outlinewidth\":0,\"ticks\":\"\"}}}],\"histogram\":[{\"marker\":{\"pattern\":{\"fillmode\":\"overlay\",\"size\":10,\"solidity\":0.2}},\"type\":\"histogram\"}],\"scattergl\":[{\"type\":\"scattergl\",\"marker\":{\"colorbar\":{\"outlinewidth\":0,\"ticks\":\"\"}}}],\"scatter3d\":[{\"type\":\"scatter3d\",\"line\":{\"colorbar\":{\"outlinewidth\":0,\"ticks\":\"\"}},\"marker\":{\"colorbar\":{\"outlinewidth\":0,\"ticks\":\"\"}}}],\"scattermapbox\":[{\"type\":\"scattermapbox\",\"marker\":{\"colorbar\":{\"outlinewidth\":0,\"ticks\":\"\"}}}],\"scatterternary\":[{\"type\":\"scatterternary\",\"marker\":{\"colorbar\":{\"outlinewidth\":0,\"ticks\":\"\"}}}],\"scattercarpet\":[{\"type\":\"scattercarpet\",\"marker\":{\"colorbar\":{\"outlinewidth\":0,\"ticks\":\"\"}}}],\"carpet\":[{\"aaxis\":{\"endlinecolor\":\"#2a3f5f\",\"gridcolor\":\"white\",\"linecolor\":\"white\",\"minorgridcolor\":\"white\",\"startlinecolor\":\"#2a3f5f\"},\"baxis\":{\"endlinecolor\":\"#2a3f5f\",\"gridcolor\":\"white\",\"linecolor\":\"white\",\"minorgridcolor\":\"white\",\"startlinecolor\":\"#2a3f5f\"},\"type\":\"carpet\"}],\"table\":[{\"cells\":{\"fill\":{\"color\":\"#EBF0F8\"},\"line\":{\"color\":\"white\"}},\"header\":{\"fill\":{\"color\":\"#C8D4E3\"},\"line\":{\"color\":\"white\"}},\"type\":\"table\"}],\"barpolar\":[{\"marker\":{\"line\":{\"color\":\"#E5ECF6\",\"width\":0.5},\"pattern\":{\"fillmode\":\"overlay\",\"size\":10,\"solidity\":0.2}},\"type\":\"barpolar\"}],\"pie\":[{\"automargin\":true,\"type\":\"pie\"}]},\"layout\":{\"autotypenumbers\":\"strict\",\"colorway\":[\"#636efa\",\"#EF553B\",\"#00cc96\",\"#ab63fa\",\"#FFA15A\",\"#19d3f3\",\"#FF6692\",\"#B6E880\",\"#FF97FF\",\"#FECB52\"],\"font\":{\"color\":\"#2a3f5f\"},\"hovermode\":\"closest\",\"hoverlabel\":{\"align\":\"left\"},\"paper_bgcolor\":\"white\",\"plot_bgcolor\":\"#E5ECF6\",\"polar\":{\"bgcolor\":\"#E5ECF6\",\"angularaxis\":{\"gridcolor\":\"white\",\"linecolor\":\"white\",\"ticks\":\"\"},\"radialaxis\":{\"gridcolor\":\"white\",\"linecolor\":\"white\",\"ticks\":\"\"}},\"ternary\":{\"bgcolor\":\"#E5ECF6\",\"aaxis\":{\"gridcolor\":\"white\",\"linecolor\":\"white\",\"ticks\":\"\"},\"baxis\":{\"gridcolor\":\"white\",\"linecolor\":\"white\",\"ticks\":\"\"},\"caxis\":{\"gridcolor\":\"white\",\"linecolor\":\"white\",\"ticks\":\"\"}},\"coloraxis\":{\"colorbar\":{\"outlinewidth\":0,\"ticks\":\"\"}},\"colorscale\":{\"sequential\":[[0.0,\"#0d0887\"],[0.1111111111111111,\"#46039f\"],[0.2222222222222222,\"#7201a8\"],[0.3333333333333333,\"#9c179e\"],[0.4444444444444444,\"#bd3786\"],[0.5555555555555556,\"#d8576b\"],[0.6666666666666666,\"#ed7953\"],[0.7777777777777778,\"#fb9f3a\"],[0.8888888888888888,\"#fdca26\"],[1.0,\"#f0f921\"]],\"sequentialminus\":[[0.0,\"#0d0887\"],[0.1111111111111111,\"#46039f\"],[0.2222222222222222,\"#7201a8\"],[0.3333333333333333,\"#9c179e\"],[0.4444444444444444,\"#bd3786\"],[0.5555555555555556,\"#d8576b\"],[0.6666666666666666,\"#ed7953\"],[0.7777777777777778,\"#fb9f3a\"],[0.8888888888888888,\"#fdca26\"],[1.0,\"#f0f921\"]],\"diverging\":[[0,\"#8e0152\"],[0.1,\"#c51b7d\"],[0.2,\"#de77ae\"],[0.3,\"#f1b6da\"],[0.4,\"#fde0ef\"],[0.5,\"#f7f7f7\"],[0.6,\"#e6f5d0\"],[0.7,\"#b8e186\"],[0.8,\"#7fbc41\"],[0.9,\"#4d9221\"],[1,\"#276419\"]]},\"xaxis\":{\"gridcolor\":\"white\",\"linecolor\":\"white\",\"ticks\":\"\",\"title\":{\"standoff\":15},\"zerolinecolor\":\"white\",\"automargin\":true,\"zerolinewidth\":2},\"yaxis\":{\"gridcolor\":\"white\",\"linecolor\":\"white\",\"ticks\":\"\",\"title\":{\"standoff\":15},\"zerolinecolor\":\"white\",\"automargin\":true,\"zerolinewidth\":2},\"scene\":{\"xaxis\":{\"backgroundcolor\":\"#E5ECF6\",\"gridcolor\":\"white\",\"linecolor\":\"white\",\"showbackground\":true,\"ticks\":\"\",\"zerolinecolor\":\"white\",\"gridwidth\":2},\"yaxis\":{\"backgroundcolor\":\"#E5ECF6\",\"gridcolor\":\"white\",\"linecolor\":\"white\",\"showbackground\":true,\"ticks\":\"\",\"zerolinecolor\":\"white\",\"gridwidth\":2},\"zaxis\":{\"backgroundcolor\":\"#E5ECF6\",\"gridcolor\":\"white\",\"linecolor\":\"white\",\"showbackground\":true,\"ticks\":\"\",\"zerolinecolor\":\"white\",\"gridwidth\":2}},\"shapedefaults\":{\"line\":{\"color\":\"#2a3f5f\"}},\"annotationdefaults\":{\"arrowcolor\":\"#2a3f5f\",\"arrowhead\":0,\"arrowwidth\":1},\"geo\":{\"bgcolor\":\"white\",\"landcolor\":\"#E5ECF6\",\"subunitcolor\":\"white\",\"showland\":true,\"showlakes\":true,\"lakecolor\":\"white\"},\"title\":{\"x\":0.05},\"mapbox\":{\"style\":\"light\"}}},\"xaxis\":{\"anchor\":\"y\",\"domain\":[0.0,1.0],\"title\":{\"text\":\"year_month\"}},\"yaxis\":{\"anchor\":\"x\",\"domain\":[0.0,1.0],\"title\":{\"text\":\"price\"}},\"legend\":{\"tracegroupgap\":0},\"title\":{\"text\":\"Total Sales Over Time\"}},                        {\"responsive\": true}                    ).then(function(){\n",
              "                            \n",
              "var gd = document.getElementById('45f3fe22-fd52-4a1d-b9b8-98179c0b00b7');\n",
              "var x = new MutationObserver(function (mutations, observer) {{\n",
              "        var display = window.getComputedStyle(gd).display;\n",
              "        if (!display || display === 'none') {{\n",
              "            console.log([gd, 'removed!']);\n",
              "            Plotly.purge(gd);\n",
              "            observer.disconnect();\n",
              "        }}\n",
              "}});\n",
              "\n",
              "// Listen for the removal of the full notebook cells\n",
              "var notebookContainer = gd.closest('#notebook-container');\n",
              "if (notebookContainer) {{\n",
              "    x.observe(notebookContainer, {childList: true});\n",
              "}}\n",
              "\n",
              "// Listen for the clearing of the current output cell\n",
              "var outputEl = gd.closest('.output');\n",
              "if (outputEl) {{\n",
              "    x.observe(outputEl, {childList: true});\n",
              "}}\n",
              "\n",
              "                        })                };                            </script>        </div>\n",
              "</body>\n",
              "</html>"
            ]
          },
          "metadata": {}
        }
      ]
    },
    {
      "cell_type": "markdown",
      "source": [
        "1. Sales of Tablets Over Time (Bar Chart) <br>\n",
        "- The bar chart shows how many tablets were sold in different months.<br>\n",
        "- The sales were high in some months (e.g., December and March) but dropped significantly in April.<br>\n",
        "- This means that tablet sales are not consistent every month. Some months perform much better than others.<br>\n",
        "\n",
        "2. Total Sales Over Time (Line Chart)<br>\n",
        "- This chart shows the total money earned from all sales (not just tablets) over time.<br>\n",
        "- The sales were steady at first, but there is a big drop towards the most recent months.<br>\n",
        "- This could mean fewer products were sold recently, or that customers bought lower-priced items.<br>\n",
        "\n",
        "3. Key Takeaways:<br>\n",
        "- Tablet sales fluctuate, meaning demand changes over time.<br>\n",
        "- Overall revenue is declining in recent months, which could indicate lower sales, seasonal changes, or customer preferences shifting.<br>\n",
        "- It may be worth investigating why sales dropped (e.g., market trends, competition, or stock availability).<br>"
      ],
      "metadata": {
        "id": "EE7xIvzPutmt"
      }
    }
  ]
}